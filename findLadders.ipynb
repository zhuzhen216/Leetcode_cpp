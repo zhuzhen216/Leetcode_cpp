{
 "cells": [
  {
   "cell_type": "code",
   "execution_count": 125,
   "metadata": {
    "collapsed": false
   },
   "outputs": [],
   "source": [
    "def findLadders(begin, end, wordList):\n",
    "        \"\"\"\n",
    "        :type beginWord: str\n",
    "        :type endWord: str\n",
    "        :type wordList: List[str]\n",
    "        :rtype: List[List[str]]\n",
    "        \"\"\"\n",
    "        ret = []\n",
    "        neighb_map ={}\n",
    "        #wordList.append(begin)\n",
    "        for word in wordList+[begin]:\n",
    "            neighb_map[word]=set()\n",
    "            for i in range(len(word)):\n",
    "                for j in range(26):\n",
    "                    if ord('a')+j==ord(word[i]):\n",
    "                        continue\n",
    "                \n",
    "                    temp = word[0:i]+chr(ord('a')+j) + word[i+1:]\n",
    "                    #print(temp)\n",
    "                    if temp in wordList:\n",
    "                        neighb_map[word].add(temp)\n",
    "        seen = set()\n",
    "        #print(neighb_map)\n",
    "        def bfs(begin,end):\n",
    "            stack = [begin]\n",
    "            lev = 0\n",
    "            seen = set()\n",
    "            while stack:\n",
    "                cur_len = len(stack)\n",
    "                lev += 1\n",
    "                for _ in range(cur_len):\n",
    "                    cur_node = stack.pop(0)\n",
    "                    for next_node in neighb_map[cur_node]:\n",
    "                        if next_node==end:\n",
    "                            return lev\n",
    "                        if next_node in seen:\n",
    "                            continue\n",
    "                        else:\n",
    "                            stack.append(next_node)\n",
    "            return -1\n",
    "        \n",
    "        def dfs(begin,end,path,lev):\n",
    "            #print(len(path))\n",
    "            if len(path) == lev:\n",
    "                if begin!=end:\n",
    "                    #print(path)\n",
    "                    return\n",
    "                else:\n",
    "                    ret.append(list(path+[end]))\n",
    "                    #print(path)\n",
    "                    return\n",
    "                    \n",
    "            seen.add(begin)\n",
    "            path.append(begin)\n",
    "            #print(path)\n",
    "            for node in neighb_map[begin]:\n",
    "                if node in seen:\n",
    "                    continue\n",
    "                else:\n",
    "                    dfs(node,end,path,steps)\n",
    "            seen.remove(begin)\n",
    "            path.pop()\n",
    "\n",
    "        steps = bfs(begin,end)\n",
    "        #print(steps)\n",
    "        if steps==-1:\n",
    "            return []\n",
    "        else:\n",
    "            dfs(begin,end,[],steps)\n",
    "        return ret"
   ]
  },
  {
   "cell_type": "code",
   "execution_count": 126,
   "metadata": {
    "collapsed": true
   },
   "outputs": [],
   "source": [
    "beginWord = \"hit\"\n",
    "endWord = \"cog\"\n",
    "wordList = [\"hot\",\"dot\",\"dog\",\"lot\",\"log\",\"cog\"]"
   ]
  },
  {
   "cell_type": "code",
   "execution_count": 127,
   "metadata": {
    "collapsed": false
   },
   "outputs": [
    {
     "data": {
      "text/plain": [
       "[['hit', 'hot', 'dot', 'dog', 'cog'], ['hit', 'hot', 'lot', 'log', 'cog']]"
      ]
     },
     "execution_count": 127,
     "metadata": {},
     "output_type": "execute_result"
    }
   ],
   "source": [
    "findLadders(beginWord, endWord, wordList)"
   ]
  },
  {
   "cell_type": "code",
   "execution_count": null,
   "metadata": {
    "collapsed": true
   },
   "outputs": [],
   "source": []
  }
 ],
 "metadata": {
  "anaconda-cloud": {},
  "kernelspec": {
   "display_name": "Python [conda root]",
   "language": "python",
   "name": "conda-root-py"
  },
  "language_info": {
   "codemirror_mode": {
    "name": "ipython",
    "version": 3
   },
   "file_extension": ".py",
   "mimetype": "text/x-python",
   "name": "python",
   "nbconvert_exporter": "python",
   "pygments_lexer": "ipython3",
   "version": "3.5.2"
  }
 },
 "nbformat": 4,
 "nbformat_minor": 2
}
