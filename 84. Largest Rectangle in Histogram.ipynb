{
 "cells": [
  {
   "cell_type": "code",
   "execution_count": 1,
   "metadata": {
    "collapsed": true
   },
   "outputs": [],
   "source": [
    "class Solution(object):\n",
    "    def largestRectangleArea(self, heights):\n",
    "        \"\"\"\n",
    "        :type heights: List[int]\n",
    "        :rtype: int\n",
    "        \"\"\"\n",
    "        maxArea = [0]\n",
    "        # possibly divide and conquer\n",
    "        def findMin(heights):\n",
    "            min_val = 2147483647\n",
    "            low_bound = maxArea[0]/len(heights)+1\n",
    "            for i in range(len(heights)):\n",
    "                #if heights[i]>=low_bound:\n",
    "                min_val = min(heights[i],min_val)\n",
    "            # if min_val == 2147483647\n",
    "            ret = [min_val]\n",
    "            for i in range(len(heights)):\n",
    "                if heights[i]==min_val:\n",
    "                    ret.append(i)\n",
    "            return ret\n",
    "        def helper(heights):\n",
    "            if len(heights)==0:\n",
    "                return\n",
    "            if len(heights)==1:\n",
    "                maxArea[0]=max(maxArea[0],heights[0])\n",
    "                return\n",
    "            min_info = findMin(heights)\n",
    "            if len(min_info)==1:\n",
    "                return\n",
    "            maxArea[0] = max(maxArea[0],min_info[0]*len(heights))\n",
    "            helper(heights[0:min_info[1]])\n",
    "            helper(heights[min_info[-1]+1:])\n",
    "            for i in range(1,len(min_info)-1):\n",
    "                helper(heights[min_info[i]+1:min_info[i+1]])\n",
    "        \n",
    "        helper(heights)\n",
    "        return maxArea[0]"
   ]
  },
  {
   "cell_type": "code",
   "execution_count": null,
   "metadata": {
    "collapsed": true
   },
   "outputs": [],
   "source": []
  }
 ],
 "metadata": {
  "kernelspec": {
   "display_name": "Python [conda root]",
   "language": "python",
   "name": "conda-root-py"
  },
  "language_info": {
   "codemirror_mode": {
    "name": "ipython",
    "version": 3
   },
   "file_extension": ".py",
   "mimetype": "text/x-python",
   "name": "python",
   "nbconvert_exporter": "python",
   "pygments_lexer": "ipython3",
   "version": "3.5.2"
  }
 },
 "nbformat": 4,
 "nbformat_minor": 2
}
